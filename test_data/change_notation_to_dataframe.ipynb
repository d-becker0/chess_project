{
 "cells": [
  {
   "attachments": {},
   "cell_type": "markdown",
   "metadata": {},
   "source": [
    "### Create a dataframe of game information which will be used in testing my chess implementation"
   ]
  },
  {
   "cell_type": "code",
   "execution_count": 1,
   "metadata": {},
   "outputs": [],
   "source": [
    "from constants import *\n",
    "from notation_interpreter import NotationInterpreter\n",
    "\n",
    "import pandas as pd\n",
    "from tqdm import tqdm"
   ]
  },
  {
   "attachments": {},
   "cell_type": "markdown",
   "metadata": {},
   "source": [
    "##### reading games that were originally in csv format:"
   ]
  },
  {
   "cell_type": "code",
   "execution_count": 2,
   "metadata": {},
   "outputs": [],
   "source": [
    "games_df = pd.read_csv('game_data/games.csv')"
   ]
  },
  {
   "cell_type": "code",
   "execution_count": 3,
   "metadata": {},
   "outputs": [
    {
     "name": "stdout",
     "output_type": "stream",
     "text": [
      "All columns: Index(['id', 'rated', 'created_at', 'last_move_at', 'turns', 'victory_status',\n",
      "       'winner', 'increment_code', 'white_id', 'white_rating', 'black_id',\n",
      "       'black_rating', 'moves', 'opening_eco', 'opening_name', 'opening_ply'],\n",
      "      dtype='object')\n"
     ]
    },
    {
     "data": {
      "text/plain": [
       "0    d4 d5 c4 c6 cxd5 e6 dxe6 fxe6 Nf3 Bb4+ Nc3 Ba5...\n",
       "1    d4 Nc6 e4 e5 f4 f6 dxe5 fxe5 fxe5 Nxe5 Qd4 Nc6...\n",
       "2    e4 e5 d3 d6 Be3 c6 Be2 b5 Nd2 a5 a4 c5 axb5 Nc...\n",
       "3    d4 d5 Nf3 Bf5 Nc3 Nf6 Bf4 Ng4 e3 Nc6 Be2 Qd7 O...\n",
       "4    e4 e5 Nf3 d6 d4 Nc6 d5 Nb4 a3 Na6 Nc3 Be7 b4 N...\n",
       "Name: moves, dtype: object"
      ]
     },
     "execution_count": 3,
     "metadata": {},
     "output_type": "execute_result"
    }
   ],
   "source": [
    "print(\"All columns:\", games_df.columns)\n",
    "games_df['moves'].head()"
   ]
  },
  {
   "attachments": {},
   "cell_type": "markdown",
   "metadata": {},
   "source": [
    "I only care about the 'moves' column"
   ]
  },
  {
   "cell_type": "code",
   "execution_count": 4,
   "metadata": {},
   "outputs": [
    {
     "data": {
      "text/plain": [
       "'d4 d5 Nc3 Nf6 Bf4 Bf5 Nf3 e6 e3 Be7 Bb5+ c6 Bd3 Bxd3 Qxd3 O-O Bg5 Ng4 Bxe7 Qxe7 O-O Qg5 h3 Qf6 hxg4 Qh6 Na4 b5 Nc5 Kh8 Nb7 g6 Nd6 Na6 Ne5 Kg8 Ndxf7 Rxf7 Nxf7 Kxf7 f4 g5 fxg5+ Kg7 gxh6+ Kxh6 Rf6+ Kg7 g5 h6 Qg6+ Kh8 Qxh6+ Kg8 Rxe6 Kf7 Qf6+ Kg8 Re8+ Rxe8 Qg6+ Kf8 Qh6+ Kg8 g6 Nb4 Rf1 Nxc2 Qh7#'"
      ]
     },
     "execution_count": 4,
     "metadata": {},
     "output_type": "execute_result"
    }
   ],
   "source": [
    "games_df.iloc[25]['moves']"
   ]
  },
  {
   "attachments": {},
   "cell_type": "markdown",
   "metadata": {},
   "source": [
    "I don't need to worry about the 'moves' string containing things that aren't moves"
   ]
  },
  {
   "attachments": {},
   "cell_type": "markdown",
   "metadata": {},
   "source": [
    "#### Parsing moves:"
   ]
  },
  {
   "cell_type": "code",
   "execution_count": 5,
   "metadata": {},
   "outputs": [],
   "source": [
    "notation_buddy = NotationInterpreter()\n",
    "\n",
    "def parse_moves_from_row(moves):\n",
    "    game_moves = []\n",
    "    for turn, move in enumerate(moves.split()):\n",
    "        move_data = notation_buddy.parse_move(move, turn)\n",
    "        game_moves.append(move_data)\n",
    "    return game_moves\n",
    "\n",
    "def create_move_df(game_df):\n",
    "    df_precursor = []\n",
    "    for game_id, row in tqdm(game_df['moves'].items()):\n",
    "        game_moves = parse_moves_from_row(row)\n",
    "        \n",
    "        # unnecessary loop, but probably not too bad if I only ever run it once\n",
    "        for move_data in game_moves:\n",
    "            move_data['game_id'] = game_id\n",
    "        \n",
    "        df_precursor.extend(game_moves)\n",
    "    \n",
    "    return pd.DataFrame(df_precursor)"
   ]
  },
  {
   "cell_type": "code",
   "execution_count": 6,
   "metadata": {},
   "outputs": [
    {
     "name": "stderr",
     "output_type": "stream",
     "text": [
      "20058it [00:06, 3243.22it/s]\n"
     ]
    }
   ],
   "source": [
    "move_df = create_move_df(games_df)\n",
    "\n"
   ]
  },
  {
   "cell_type": "code",
   "execution_count": 7,
   "metadata": {},
   "outputs": [
    {
     "data": {
      "text/html": [
       "<div>\n",
       "<style scoped>\n",
       "    .dataframe tbody tr th:only-of-type {\n",
       "        vertical-align: middle;\n",
       "    }\n",
       "\n",
       "    .dataframe tbody tr th {\n",
       "        vertical-align: top;\n",
       "    }\n",
       "\n",
       "    .dataframe thead th {\n",
       "        text-align: right;\n",
       "    }\n",
       "</style>\n",
       "<table border=\"1\" class=\"dataframe\">\n",
       "  <thead>\n",
       "    <tr style=\"text-align: right;\">\n",
       "      <th></th>\n",
       "      <th>piece_type</th>\n",
       "      <th>piece_indicator</th>\n",
       "      <th>to_square</th>\n",
       "      <th>is_take</th>\n",
       "      <th>is_check</th>\n",
       "      <th>is_checkmate</th>\n",
       "      <th>is_promotion</th>\n",
       "      <th>is_king_side_castle</th>\n",
       "      <th>is_queen_side_castle</th>\n",
       "      <th>turn</th>\n",
       "      <th>team</th>\n",
       "      <th>game_id</th>\n",
       "    </tr>\n",
       "  </thead>\n",
       "  <tbody>\n",
       "    <tr>\n",
       "      <th>0</th>\n",
       "      <td>p</td>\n",
       "      <td>(None, None)</td>\n",
       "      <td>(4, 4)</td>\n",
       "      <td>False</td>\n",
       "      <td>False</td>\n",
       "      <td>False</td>\n",
       "      <td>False</td>\n",
       "      <td>False</td>\n",
       "      <td>False</td>\n",
       "      <td>0</td>\n",
       "      <td>white</td>\n",
       "      <td>0</td>\n",
       "    </tr>\n",
       "    <tr>\n",
       "      <th>1</th>\n",
       "      <td>p</td>\n",
       "      <td>(None, None)</td>\n",
       "      <td>(4, 5)</td>\n",
       "      <td>False</td>\n",
       "      <td>False</td>\n",
       "      <td>False</td>\n",
       "      <td>False</td>\n",
       "      <td>False</td>\n",
       "      <td>False</td>\n",
       "      <td>1</td>\n",
       "      <td>black</td>\n",
       "      <td>0</td>\n",
       "    </tr>\n",
       "    <tr>\n",
       "      <th>2</th>\n",
       "      <td>p</td>\n",
       "      <td>(None, None)</td>\n",
       "      <td>(3, 4)</td>\n",
       "      <td>False</td>\n",
       "      <td>False</td>\n",
       "      <td>False</td>\n",
       "      <td>False</td>\n",
       "      <td>False</td>\n",
       "      <td>False</td>\n",
       "      <td>2</td>\n",
       "      <td>white</td>\n",
       "      <td>0</td>\n",
       "    </tr>\n",
       "    <tr>\n",
       "      <th>3</th>\n",
       "      <td>p</td>\n",
       "      <td>(None, None)</td>\n",
       "      <td>(3, 6)</td>\n",
       "      <td>False</td>\n",
       "      <td>False</td>\n",
       "      <td>False</td>\n",
       "      <td>False</td>\n",
       "      <td>False</td>\n",
       "      <td>False</td>\n",
       "      <td>3</td>\n",
       "      <td>black</td>\n",
       "      <td>0</td>\n",
       "    </tr>\n",
       "    <tr>\n",
       "      <th>4</th>\n",
       "      <td>p</td>\n",
       "      <td>(3, None)</td>\n",
       "      <td>(4, 5)</td>\n",
       "      <td>True</td>\n",
       "      <td>False</td>\n",
       "      <td>False</td>\n",
       "      <td>False</td>\n",
       "      <td>False</td>\n",
       "      <td>False</td>\n",
       "      <td>4</td>\n",
       "      <td>white</td>\n",
       "      <td>0</td>\n",
       "    </tr>\n",
       "    <tr>\n",
       "      <th>...</th>\n",
       "      <td>...</td>\n",
       "      <td>...</td>\n",
       "      <td>...</td>\n",
       "      <td>...</td>\n",
       "      <td>...</td>\n",
       "      <td>...</td>\n",
       "      <td>...</td>\n",
       "      <td>...</td>\n",
       "      <td>...</td>\n",
       "      <td>...</td>\n",
       "      <td>...</td>\n",
       "      <td>...</td>\n",
       "    </tr>\n",
       "    <tr>\n",
       "      <th>1212822</th>\n",
       "      <td>q</td>\n",
       "      <td>(None, None)</td>\n",
       "      <td>(1, 6)</td>\n",
       "      <td>False</td>\n",
       "      <td>True</td>\n",
       "      <td>False</td>\n",
       "      <td>False</td>\n",
       "      <td>False</td>\n",
       "      <td>False</td>\n",
       "      <td>73</td>\n",
       "      <td>black</td>\n",
       "      <td>20057</td>\n",
       "    </tr>\n",
       "    <tr>\n",
       "      <th>1212823</th>\n",
       "      <td>k</td>\n",
       "      <td>(None, None)</td>\n",
       "      <td>(4, 7)</td>\n",
       "      <td>False</td>\n",
       "      <td>False</td>\n",
       "      <td>False</td>\n",
       "      <td>False</td>\n",
       "      <td>False</td>\n",
       "      <td>False</td>\n",
       "      <td>74</td>\n",
       "      <td>white</td>\n",
       "      <td>20057</td>\n",
       "    </tr>\n",
       "    <tr>\n",
       "      <th>1212824</th>\n",
       "      <td>q</td>\n",
       "      <td>(None, None)</td>\n",
       "      <td>(2, 5)</td>\n",
       "      <td>False</td>\n",
       "      <td>True</td>\n",
       "      <td>False</td>\n",
       "      <td>False</td>\n",
       "      <td>False</td>\n",
       "      <td>False</td>\n",
       "      <td>75</td>\n",
       "      <td>black</td>\n",
       "      <td>20057</td>\n",
       "    </tr>\n",
       "    <tr>\n",
       "      <th>1212825</th>\n",
       "      <td>k</td>\n",
       "      <td>(None, None)</td>\n",
       "      <td>(4, 8)</td>\n",
       "      <td>False</td>\n",
       "      <td>False</td>\n",
       "      <td>False</td>\n",
       "      <td>False</td>\n",
       "      <td>False</td>\n",
       "      <td>False</td>\n",
       "      <td>76</td>\n",
       "      <td>white</td>\n",
       "      <td>20057</td>\n",
       "    </tr>\n",
       "    <tr>\n",
       "      <th>1212826</th>\n",
       "      <td>q</td>\n",
       "      <td>(None, None)</td>\n",
       "      <td>(5, 8)</td>\n",
       "      <td>False</td>\n",
       "      <td>False</td>\n",
       "      <td>True</td>\n",
       "      <td>False</td>\n",
       "      <td>False</td>\n",
       "      <td>False</td>\n",
       "      <td>77</td>\n",
       "      <td>black</td>\n",
       "      <td>20057</td>\n",
       "    </tr>\n",
       "  </tbody>\n",
       "</table>\n",
       "<p>1212827 rows × 12 columns</p>\n",
       "</div>"
      ],
      "text/plain": [
       "        piece_type piece_indicator to_square  is_take  is_check  is_checkmate  \\\n",
       "0                p    (None, None)    (4, 4)    False     False         False   \n",
       "1                p    (None, None)    (4, 5)    False     False         False   \n",
       "2                p    (None, None)    (3, 4)    False     False         False   \n",
       "3                p    (None, None)    (3, 6)    False     False         False   \n",
       "4                p       (3, None)    (4, 5)     True     False         False   \n",
       "...            ...             ...       ...      ...       ...           ...   \n",
       "1212822          q    (None, None)    (1, 6)    False      True         False   \n",
       "1212823          k    (None, None)    (4, 7)    False     False         False   \n",
       "1212824          q    (None, None)    (2, 5)    False      True         False   \n",
       "1212825          k    (None, None)    (4, 8)    False     False         False   \n",
       "1212826          q    (None, None)    (5, 8)    False     False          True   \n",
       "\n",
       "         is_promotion  is_king_side_castle  is_queen_side_castle  turn   team  \\\n",
       "0               False                False                 False     0  white   \n",
       "1               False                False                 False     1  black   \n",
       "2               False                False                 False     2  white   \n",
       "3               False                False                 False     3  black   \n",
       "4               False                False                 False     4  white   \n",
       "...               ...                  ...                   ...   ...    ...   \n",
       "1212822         False                False                 False    73  black   \n",
       "1212823         False                False                 False    74  white   \n",
       "1212824         False                False                 False    75  black   \n",
       "1212825         False                False                 False    76  white   \n",
       "1212826         False                False                 False    77  black   \n",
       "\n",
       "         game_id  \n",
       "0              0  \n",
       "1              0  \n",
       "2              0  \n",
       "3              0  \n",
       "4              0  \n",
       "...          ...  \n",
       "1212822    20057  \n",
       "1212823    20057  \n",
       "1212824    20057  \n",
       "1212825    20057  \n",
       "1212826    20057  \n",
       "\n",
       "[1212827 rows x 12 columns]"
      ]
     },
     "execution_count": 7,
     "metadata": {},
     "output_type": "execute_result"
    }
   ],
   "source": [
    "move_df"
   ]
  },
  {
   "attachments": {},
   "cell_type": "markdown",
   "metadata": {},
   "source": [
    "#### Looks good"
   ]
  },
  {
   "cell_type": "code",
   "execution_count": 14,
   "metadata": {},
   "outputs": [],
   "source": [
    "pd.to_pickle(move_df, 'test_data/game_info')"
   ]
  },
  {
   "cell_type": "code",
   "execution_count": null,
   "metadata": {},
   "outputs": [],
   "source": []
  }
 ],
 "metadata": {
  "kernelspec": {
   "display_name": "chess_venv",
   "language": "python",
   "name": "python3"
  },
  "language_info": {
   "codemirror_mode": {
    "name": "ipython",
    "version": 3
   },
   "file_extension": ".py",
   "mimetype": "text/x-python",
   "name": "python",
   "nbconvert_exporter": "python",
   "pygments_lexer": "ipython3",
   "version": "3.11.1"
  },
  "orig_nbformat": 4,
  "vscode": {
   "interpreter": {
    "hash": "5a0fb1206be700b8ef329961143e901979b75f0383a1600ea467b89a37e6dd06"
   }
  }
 },
 "nbformat": 4,
 "nbformat_minor": 2
}
